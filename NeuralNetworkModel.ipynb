{
 "cells": [
  {
   "cell_type": "code",
   "execution_count": 43,
   "id": "ee1969d6",
   "metadata": {},
   "outputs": [],
   "source": [
    "import random\n",
    "import pandas as pd\n",
    "import numpy as np\n",
    "from numpy import log,dot,exp,shape\n",
    "import matplotlib.pyplot as plt\n",
    "import copy, math\n",
    "from sklearn.metrics import accuracy_score"
   ]
  },
  {
   "cell_type": "code",
   "execution_count": 44,
   "id": "cc76af69",
   "metadata": {},
   "outputs": [
    {
     "data": {
      "text/html": [
       "<div>\n",
       "<style scoped>\n",
       "    .dataframe tbody tr th:only-of-type {\n",
       "        vertical-align: middle;\n",
       "    }\n",
       "\n",
       "    .dataframe tbody tr th {\n",
       "        vertical-align: top;\n",
       "    }\n",
       "\n",
       "    .dataframe thead th {\n",
       "        text-align: right;\n",
       "    }\n",
       "</style>\n",
       "<table border=\"1\" class=\"dataframe\">\n",
       "  <thead>\n",
       "    <tr style=\"text-align: right;\">\n",
       "      <th></th>\n",
       "      <th>aluminium</th>\n",
       "      <th>ammonia</th>\n",
       "      <th>arsenic</th>\n",
       "      <th>barium</th>\n",
       "      <th>cadmium</th>\n",
       "      <th>chloramine</th>\n",
       "      <th>chromium</th>\n",
       "      <th>copper</th>\n",
       "      <th>flouride</th>\n",
       "      <th>bacteria</th>\n",
       "      <th>...</th>\n",
       "      <th>lead</th>\n",
       "      <th>nitrates</th>\n",
       "      <th>nitrites</th>\n",
       "      <th>mercury</th>\n",
       "      <th>perchlorate</th>\n",
       "      <th>radium</th>\n",
       "      <th>selenium</th>\n",
       "      <th>silver</th>\n",
       "      <th>uranium</th>\n",
       "      <th>is_safe</th>\n",
       "    </tr>\n",
       "  </thead>\n",
       "  <tbody>\n",
       "    <tr>\n",
       "      <th>0</th>\n",
       "      <td>0.329341</td>\n",
       "      <td>0.304931</td>\n",
       "      <td>0.038835</td>\n",
       "      <td>0.588843</td>\n",
       "      <td>0.053846</td>\n",
       "      <td>0.040416</td>\n",
       "      <td>0.922222</td>\n",
       "      <td>0.085427</td>\n",
       "      <td>0.033333</td>\n",
       "      <td>0.20</td>\n",
       "      <td>...</td>\n",
       "      <td>0.270</td>\n",
       "      <td>0.814177</td>\n",
       "      <td>0.391003</td>\n",
       "      <td>0.7</td>\n",
       "      <td>0.631905</td>\n",
       "      <td>0.850690</td>\n",
       "      <td>0.8</td>\n",
       "      <td>0.68</td>\n",
       "      <td>0.222222</td>\n",
       "      <td>1</td>\n",
       "    </tr>\n",
       "    <tr>\n",
       "      <th>1</th>\n",
       "      <td>0.463074</td>\n",
       "      <td>0.710164</td>\n",
       "      <td>0.009709</td>\n",
       "      <td>0.683884</td>\n",
       "      <td>0.015385</td>\n",
       "      <td>0.609700</td>\n",
       "      <td>0.755556</td>\n",
       "      <td>0.331658</td>\n",
       "      <td>0.600000</td>\n",
       "      <td>0.65</td>\n",
       "      <td>...</td>\n",
       "      <td>0.500</td>\n",
       "      <td>0.101772</td>\n",
       "      <td>0.667820</td>\n",
       "      <td>0.3</td>\n",
       "      <td>0.540007</td>\n",
       "      <td>0.402760</td>\n",
       "      <td>0.8</td>\n",
       "      <td>0.54</td>\n",
       "      <td>0.555556</td>\n",
       "      <td>1</td>\n",
       "    </tr>\n",
       "    <tr>\n",
       "      <th>3</th>\n",
       "      <td>0.271457</td>\n",
       "      <td>0.380409</td>\n",
       "      <td>0.038835</td>\n",
       "      <td>0.611570</td>\n",
       "      <td>0.007692</td>\n",
       "      <td>0.834873</td>\n",
       "      <td>0.033333</td>\n",
       "      <td>0.834171</td>\n",
       "      <td>0.720000</td>\n",
       "      <td>0.71</td>\n",
       "      <td>...</td>\n",
       "      <td>0.080</td>\n",
       "      <td>0.071392</td>\n",
       "      <td>0.446367</td>\n",
       "      <td>0.4</td>\n",
       "      <td>0.152662</td>\n",
       "      <td>0.215809</td>\n",
       "      <td>0.2</td>\n",
       "      <td>0.90</td>\n",
       "      <td>0.555556</td>\n",
       "      <td>1</td>\n",
       "    </tr>\n",
       "    <tr>\n",
       "      <th>4</th>\n",
       "      <td>0.183633</td>\n",
       "      <td>0.816505</td>\n",
       "      <td>0.029126</td>\n",
       "      <td>0.041322</td>\n",
       "      <td>0.046154</td>\n",
       "      <td>0.308314</td>\n",
       "      <td>0.766667</td>\n",
       "      <td>0.286432</td>\n",
       "      <td>0.406667</td>\n",
       "      <td>0.13</td>\n",
       "      <td>...</td>\n",
       "      <td>0.585</td>\n",
       "      <td>0.341266</td>\n",
       "      <td>0.384083</td>\n",
       "      <td>0.3</td>\n",
       "      <td>0.282893</td>\n",
       "      <td>0.302384</td>\n",
       "      <td>0.2</td>\n",
       "      <td>0.12</td>\n",
       "      <td>0.222222</td>\n",
       "      <td>1</td>\n",
       "    </tr>\n",
       "    <tr>\n",
       "      <th>5</th>\n",
       "      <td>0.187625</td>\n",
       "      <td>0.485743</td>\n",
       "      <td>0.029126</td>\n",
       "      <td>0.595041</td>\n",
       "      <td>0.023077</td>\n",
       "      <td>0.092379</td>\n",
       "      <td>0.477778</td>\n",
       "      <td>0.693467</td>\n",
       "      <td>0.073333</td>\n",
       "      <td>0.67</td>\n",
       "      <td>...</td>\n",
       "      <td>0.675</td>\n",
       "      <td>0.493671</td>\n",
       "      <td>0.653979</td>\n",
       "      <td>0.6</td>\n",
       "      <td>0.454804</td>\n",
       "      <td>0.680050</td>\n",
       "      <td>0.8</td>\n",
       "      <td>0.38</td>\n",
       "      <td>0.222222</td>\n",
       "      <td>1</td>\n",
       "    </tr>\n",
       "    <tr>\n",
       "      <th>...</th>\n",
       "      <td>...</td>\n",
       "      <td>...</td>\n",
       "      <td>...</td>\n",
       "      <td>...</td>\n",
       "      <td>...</td>\n",
       "      <td>...</td>\n",
       "      <td>...</td>\n",
       "      <td>...</td>\n",
       "      <td>...</td>\n",
       "      <td>...</td>\n",
       "      <td>...</td>\n",
       "      <td>...</td>\n",
       "      <td>...</td>\n",
       "      <td>...</td>\n",
       "      <td>...</td>\n",
       "      <td>...</td>\n",
       "      <td>...</td>\n",
       "      <td>...</td>\n",
       "      <td>...</td>\n",
       "      <td>...</td>\n",
       "      <td>...</td>\n",
       "    </tr>\n",
       "    <tr>\n",
       "      <th>1927</th>\n",
       "      <td>0.762475</td>\n",
       "      <td>0.575646</td>\n",
       "      <td>0.786408</td>\n",
       "      <td>0.770661</td>\n",
       "      <td>0.692308</td>\n",
       "      <td>0.282910</td>\n",
       "      <td>0.877778</td>\n",
       "      <td>0.864322</td>\n",
       "      <td>0.486667</td>\n",
       "      <td>0.81</td>\n",
       "      <td>...</td>\n",
       "      <td>0.775</td>\n",
       "      <td>0.533165</td>\n",
       "      <td>0.667820</td>\n",
       "      <td>0.1</td>\n",
       "      <td>0.787580</td>\n",
       "      <td>0.593476</td>\n",
       "      <td>0.7</td>\n",
       "      <td>0.98</td>\n",
       "      <td>1.000000</td>\n",
       "      <td>0</td>\n",
       "    </tr>\n",
       "    <tr>\n",
       "      <th>7386</th>\n",
       "      <td>0.005988</td>\n",
       "      <td>0.062731</td>\n",
       "      <td>0.009709</td>\n",
       "      <td>0.179752</td>\n",
       "      <td>0.384615</td>\n",
       "      <td>0.010393</td>\n",
       "      <td>0.066667</td>\n",
       "      <td>0.432161</td>\n",
       "      <td>0.073333</td>\n",
       "      <td>0.85</td>\n",
       "      <td>...</td>\n",
       "      <td>0.505</td>\n",
       "      <td>0.350380</td>\n",
       "      <td>0.377163</td>\n",
       "      <td>0.8</td>\n",
       "      <td>0.157516</td>\n",
       "      <td>0.062735</td>\n",
       "      <td>0.4</td>\n",
       "      <td>0.04</td>\n",
       "      <td>0.666667</td>\n",
       "      <td>0</td>\n",
       "    </tr>\n",
       "    <tr>\n",
       "      <th>7875</th>\n",
       "      <td>0.009980</td>\n",
       "      <td>0.003690</td>\n",
       "      <td>0.067961</td>\n",
       "      <td>0.214876</td>\n",
       "      <td>0.538462</td>\n",
       "      <td>0.087760</td>\n",
       "      <td>0.044444</td>\n",
       "      <td>0.015075</td>\n",
       "      <td>0.913333</td>\n",
       "      <td>0.00</td>\n",
       "      <td>...</td>\n",
       "      <td>0.805</td>\n",
       "      <td>0.148354</td>\n",
       "      <td>0.802768</td>\n",
       "      <td>0.9</td>\n",
       "      <td>0.044191</td>\n",
       "      <td>0.225847</td>\n",
       "      <td>0.4</td>\n",
       "      <td>0.10</td>\n",
       "      <td>0.111111</td>\n",
       "      <td>0</td>\n",
       "    </tr>\n",
       "    <tr>\n",
       "      <th>4500</th>\n",
       "      <td>0.009980</td>\n",
       "      <td>0.870178</td>\n",
       "      <td>0.058252</td>\n",
       "      <td>0.173554</td>\n",
       "      <td>0.461538</td>\n",
       "      <td>0.017321</td>\n",
       "      <td>0.033333</td>\n",
       "      <td>0.020101</td>\n",
       "      <td>0.193333</td>\n",
       "      <td>0.00</td>\n",
       "      <td>...</td>\n",
       "      <td>0.975</td>\n",
       "      <td>0.418734</td>\n",
       "      <td>0.204152</td>\n",
       "      <td>0.7</td>\n",
       "      <td>0.055239</td>\n",
       "      <td>0.393977</td>\n",
       "      <td>0.6</td>\n",
       "      <td>0.20</td>\n",
       "      <td>0.222222</td>\n",
       "      <td>0</td>\n",
       "    </tr>\n",
       "    <tr>\n",
       "      <th>3423</th>\n",
       "      <td>0.003992</td>\n",
       "      <td>0.238511</td>\n",
       "      <td>0.747573</td>\n",
       "      <td>0.551653</td>\n",
       "      <td>0.923077</td>\n",
       "      <td>0.094688</td>\n",
       "      <td>0.166667</td>\n",
       "      <td>0.829146</td>\n",
       "      <td>0.533333</td>\n",
       "      <td>0.54</td>\n",
       "      <td>...</td>\n",
       "      <td>0.815</td>\n",
       "      <td>0.568608</td>\n",
       "      <td>0.674740</td>\n",
       "      <td>0.8</td>\n",
       "      <td>0.240208</td>\n",
       "      <td>0.737767</td>\n",
       "      <td>0.1</td>\n",
       "      <td>0.36</td>\n",
       "      <td>0.000000</td>\n",
       "      <td>0</td>\n",
       "    </tr>\n",
       "  </tbody>\n",
       "</table>\n",
       "<p>1824 rows × 21 columns</p>\n",
       "</div>"
      ],
      "text/plain": [
       "      aluminium   ammonia   arsenic    barium   cadmium  chloramine  chromium  \\\n",
       "0      0.329341  0.304931  0.038835  0.588843  0.053846    0.040416  0.922222   \n",
       "1      0.463074  0.710164  0.009709  0.683884  0.015385    0.609700  0.755556   \n",
       "3      0.271457  0.380409  0.038835  0.611570  0.007692    0.834873  0.033333   \n",
       "4      0.183633  0.816505  0.029126  0.041322  0.046154    0.308314  0.766667   \n",
       "5      0.187625  0.485743  0.029126  0.595041  0.023077    0.092379  0.477778   \n",
       "...         ...       ...       ...       ...       ...         ...       ...   \n",
       "1927   0.762475  0.575646  0.786408  0.770661  0.692308    0.282910  0.877778   \n",
       "7386   0.005988  0.062731  0.009709  0.179752  0.384615    0.010393  0.066667   \n",
       "7875   0.009980  0.003690  0.067961  0.214876  0.538462    0.087760  0.044444   \n",
       "4500   0.009980  0.870178  0.058252  0.173554  0.461538    0.017321  0.033333   \n",
       "3423   0.003992  0.238511  0.747573  0.551653  0.923077    0.094688  0.166667   \n",
       "\n",
       "        copper  flouride  bacteria  ...   lead  nitrates  nitrites  mercury  \\\n",
       "0     0.085427  0.033333      0.20  ...  0.270  0.814177  0.391003      0.7   \n",
       "1     0.331658  0.600000      0.65  ...  0.500  0.101772  0.667820      0.3   \n",
       "3     0.834171  0.720000      0.71  ...  0.080  0.071392  0.446367      0.4   \n",
       "4     0.286432  0.406667      0.13  ...  0.585  0.341266  0.384083      0.3   \n",
       "5     0.693467  0.073333      0.67  ...  0.675  0.493671  0.653979      0.6   \n",
       "...        ...       ...       ...  ...    ...       ...       ...      ...   \n",
       "1927  0.864322  0.486667      0.81  ...  0.775  0.533165  0.667820      0.1   \n",
       "7386  0.432161  0.073333      0.85  ...  0.505  0.350380  0.377163      0.8   \n",
       "7875  0.015075  0.913333      0.00  ...  0.805  0.148354  0.802768      0.9   \n",
       "4500  0.020101  0.193333      0.00  ...  0.975  0.418734  0.204152      0.7   \n",
       "3423  0.829146  0.533333      0.54  ...  0.815  0.568608  0.674740      0.8   \n",
       "\n",
       "      perchlorate    radium  selenium  silver   uranium  is_safe  \n",
       "0        0.631905  0.850690       0.8    0.68  0.222222        1  \n",
       "1        0.540007  0.402760       0.8    0.54  0.555556        1  \n",
       "3        0.152662  0.215809       0.2    0.90  0.555556        1  \n",
       "4        0.282893  0.302384       0.2    0.12  0.222222        1  \n",
       "5        0.454804  0.680050       0.8    0.38  0.222222        1  \n",
       "...           ...       ...       ...     ...       ...      ...  \n",
       "1927     0.787580  0.593476       0.7    0.98  1.000000        0  \n",
       "7386     0.157516  0.062735       0.4    0.04  0.666667        0  \n",
       "7875     0.044191  0.225847       0.4    0.10  0.111111        0  \n",
       "4500     0.055239  0.393977       0.6    0.20  0.222222        0  \n",
       "3423     0.240208  0.737767       0.1    0.36  0.000000        0  \n",
       "\n",
       "[1824 rows x 21 columns]"
      ]
     },
     "execution_count": 44,
     "metadata": {},
     "output_type": "execute_result"
    }
   ],
   "source": [
    "df = pd.read_csv('WaterQuality.csv')\n",
    "safe = df[df['is_safe']==1]\n",
    "notsafe = df[df['is_safe']==0]\n",
    "notsafe = notsafe.sample(n=len(safe), random_state=101)\n",
    "df = pd.concat([safe,notsafe],axis=0)\n",
    "df=(df-df.min())/(df.max()-df.min())\n",
    "df['is_safe'] = df['is_safe'].astype(int)\n",
    "df"
   ]
  },
  {
   "cell_type": "code",
   "execution_count": 45,
   "id": "8ab436b9",
   "metadata": {},
   "outputs": [],
   "source": [
    "X = df.drop(['is_safe'], axis=1).values\n",
    "Y = df['is_safe'].values"
   ]
  },
  {
   "cell_type": "code",
   "execution_count": 46,
   "id": "c873f588",
   "metadata": {},
   "outputs": [],
   "source": [
    "def sigmoid(z):\n",
    "    g = 1/(1+np.exp(-z))\n",
    "    return g"
   ]
  },
  {
   "cell_type": "code",
   "execution_count": 47,
   "id": "fc7c7eff",
   "metadata": {},
   "outputs": [],
   "source": [
    "def compute_cost_neural(X, y, v1, v2, w1, w2):\n",
    "    m = X.shape[0]\n",
    "    cost = 0.0\n",
    "    for i in range(m):\n",
    "        cost += ((sigmoid((w1*sigmoid(np.dot(v1,X[i])))+(w2*sigmoid(np.dot(v2,X[i])))))-y[i])**2\n",
    "    cost = cost / m\n",
    "    return cost"
   ]
  },
  {
   "cell_type": "code",
   "execution_count": 48,
   "id": "caa357af",
   "metadata": {},
   "outputs": [],
   "source": [
    "def compute_w_gradient_neural(X, y, v1, v2, w1, w2, ind): \n",
    "    m = X.shape[0]\n",
    "    dj_dw = 0 \n",
    "    for i in range(m):\n",
    "        sim_term = 2*((sigmoid((w1*sigmoid(np.dot(v1,X[i])))+(w2*sigmoid(np.dot(v2,X[i])))))-y[i])*(sigmoid((w1*sigmoid(np.dot(v1,X[i])))+(w2*sigmoid(np.dot(v2,X[i])))))*(1-(sigmoid((w1*sigmoid(np.dot(v1,X[i])))+(w2*sigmoid(np.dot(v2,X[i]))))))\n",
    "        if (ind == 1):\n",
    "            dj_dw += sim_term*sigmoid(np.dot(v1,X[i]))\n",
    "        elif (ind == 2):\n",
    "            dj_dw += sim_term*sigmoid(np.dot(v2,X[i]))\n",
    "    dj_dw = dj_dw/m\n",
    "    return dj_dw"
   ]
  },
  {
   "cell_type": "code",
   "execution_count": 49,
   "id": "cfa292b1",
   "metadata": {},
   "outputs": [],
   "source": [
    "def compute_v_gradient_neural(X, y, v1, v2, w1, w2, ind): \n",
    "    m = X.shape[0]\n",
    "    dj_dv = 0 \n",
    "    for i in range(m):\n",
    "        sim_term = 2*((sigmoid((w1*sigmoid(np.dot(v1,X[i])))+(w2*sigmoid(np.dot(v2,X[i])))))-y[i])*(sigmoid((w1*sigmoid(np.dot(v1,X[i])))+(w2*sigmoid(np.dot(v2,X[i])))))*(1-(sigmoid((w1*sigmoid(np.dot(v1,X[i])))+(w2*sigmoid(np.dot(v2,X[i]))))))\n",
    "        if (ind == 1):\n",
    "            dj_dv += sim_term*w1*sigmoid(np.dot(v1,X[i]))*(1-sigmoid(np.dot(v1,X[i])))*X[i]\n",
    "        elif (ind == 2):\n",
    "            dj_dv += sim_term*w2*sigmoid(np.dot(v2,X[i]))*(1-sigmoid(np.dot(v2,X[i])))*X[i]\n",
    "    dj_dv = dj_dv/m\n",
    "    return dj_dv"
   ]
  },
  {
   "cell_type": "code",
   "execution_count": 50,
   "id": "edb640ce",
   "metadata": {},
   "outputs": [],
   "source": [
    "def gradient_descent(X, y, v1, v2, w1, w2, alpha, num_iters): \n",
    "    J_history = []\n",
    "    for i in range(num_iters):\n",
    "        # Calculate the gradient and update the parameters\n",
    "        dj_dv1 = compute_v_gradient_neural(X, y, v1, v2, w1, w2, 1)\n",
    "        dj_dv2 = compute_v_gradient_neural(X, y, v1, v2, w1, w2, 2)\n",
    "        dj_dw1 = compute_w_gradient_neural(X, y, v1, v2, w1, w2, 1)\n",
    "        dj_dw2 = compute_w_gradient_neural(X, y, v1, v2, w1, w2, 2)\n",
    "        v1 = v1 - alpha * dj_dv1   \n",
    "        v2 = v2 - alpha * dj_dv2   \n",
    "        w1 = w1 - alpha * dj_dw1   \n",
    "        w2 = w2 - alpha * dj_dw2   \n",
    "        # Save cost J at each iteration\n",
    "        if i<100000:      # prevent resource exhaustion \n",
    "            J_history.append(compute_cost_neural(X, y, v1, v2, w1, w2))\n",
    "        # Print cost every at intervals 10 times or as many iterations if < 10\n",
    "        if i% math.ceil(num_iters / 10) == 0:\n",
    "            print(f\"Iteration {i:4d}: Cost {J_history[-1]}   \")\n",
    "    return v1, v2, w1, w2, J_history         #return final w and J history for graphing"
   ]
  },
  {
   "cell_type": "code",
   "execution_count": 55,
   "id": "665183ec",
   "metadata": {},
   "outputs": [
    {
     "name": "stdout",
     "output_type": "stream",
     "text": [
      "Iteration    0: Cost 0.25   \n",
      "Iteration 1000: Cost 0.25   \n",
      "Iteration 2000: Cost 0.25   \n",
      "Iteration 3000: Cost 0.25   \n",
      "Iteration 4000: Cost 0.25   \n",
      "Iteration 5000: Cost 0.25   \n",
      "Iteration 6000: Cost 0.25   \n",
      "Iteration 7000: Cost 0.25   \n",
      "Iteration 8000: Cost 0.25   \n",
      "Iteration 9000: Cost 0.25   \n",
      "\n",
      "Updated Parameters:\n",
      "v1:[0. 0. 0. 0. 0. 0. 0. 0. 0. 0. 0. 0. 0. 0. 0. 0. 0. 0. 0. 0.]\n",
      "v2:[0. 0. 0. 0. 0. 0. 0. 0. 0. 0. 0. 0. 0. 0. 0. 0. 0. 0. 0. 0.]\n",
      "w1:0.0\n",
      "w2:0.0\n"
     ]
    }
   ],
   "source": [
    "v1_tmp = np.zeros_like(X[0])\n",
    "v2_tmp = np.zeros_like(X[0])\n",
    "w1_tmp = 0\n",
    "w2_tmp = 0\n",
    "alpha = 0.01\n",
    "iters = 10000\n",
    "v1_out, v2_out, w1_out, w2_out, J = gradient_descent(X, Y, v1_tmp, v2_tmp, w1_tmp, w2_tmp, alpha, iters) \n",
    "print(f\"\\nUpdated Parameters:\\nv1:{v1_out}\\nv2:{v2_out}\\nw1:{w1_out}\\nw2:{w2_out}\")"
   ]
  },
  {
   "cell_type": "code",
   "execution_count": 56,
   "id": "11a8ba69",
   "metadata": {},
   "outputs": [
    {
     "name": "stderr",
     "output_type": "stream",
     "text": [
      "No artists with labels found to put in legend.  Note that artists whose label start with an underscore are ignored when legend() is called with no argument.\n"
     ]
    },
    {
     "data": {
      "text/plain": [
       "<matplotlib.legend.Legend at 0x29a674265e0>"
      ]
     },
     "execution_count": 56,
     "metadata": {},
     "output_type": "execute_result"
    },
    {
     "data": {
      "image/png": "[encoded data removed]",
      "text/plain": [
       "<Figure size 640x480 with 1 Axes>"
      ]
     },
     "metadata": {},
     "output_type": "display_data"
    }
   ],
   "source": [
    "fig=plt.figure(figsize=[6.4, 4.8],facecolor='skyblue', edgecolor='black',dpi=100)\n",
    "ax = fig.add_axes([0,0,1,1], projection='rectilinear',xlabel='iterations',ylabel='cost',title='zeros',facecolor='w')\n",
    "plt.plot(np.arange(10000),J,color='black')\n",
    "plt.legend(facecolor='w',loc='upper center',shadow=True,edgecolor='black',title='Linear Model')"
   ]
  },
  {
   "cell_type": "code",
   "execution_count": 57,
   "id": "6e511736",
   "metadata": {},
   "outputs": [
    {
     "name": "stdout",
     "output_type": "stream",
     "text": [
      "Iteration    0: Cost 0.30975897617312365   \n",
      "Iteration 1000: Cost 0.25086156171305996   \n",
      "Iteration 2000: Cost 0.2498851217385981   \n",
      "Iteration 3000: Cost 0.249865622097746   \n",
      "Iteration 4000: Cost 0.24985469117796333   \n",
      "Iteration 5000: Cost 0.2498436490989391   \n",
      "Iteration 6000: Cost 0.24983239586939962   \n",
      "Iteration 7000: Cost 0.24982090863279885   \n",
      "Iteration 8000: Cost 0.24980916455064575   \n",
      "Iteration 9000: Cost 0.24979713999598527   \n",
      "\n",
      "Updated Parameters:\n",
      "v1:[0.57683863 0.23568962 0.31844287 0.48823074 0.45149308 0.14176992\n",
      " 0.53352204 0.65584489 0.61626909 0.09220111 0.93227134 0.83894606\n",
      " 0.2158367  0.91766914 0.12470877 0.11797455 0.17551233 0.42902876\n",
      " 0.6379689  0.86248143]\n",
      "v2:[0.63711492 0.66125246 0.85923612 0.70918838 0.63474273 0.80320864\n",
      " 0.94626632 0.0018036  0.42067931 0.71380707 0.75905046 0.87325588\n",
      " 0.22200048 0.27887243 0.7040616  0.35954842 0.89583031 0.52804125\n",
      " 0.74529916 0.45967209]\n",
      "w1:-0.39739354751386036\n",
      "w2:0.3973122621623835\n"
     ]
    }
   ],
   "source": [
    "v1_tmp = np.random.rand(X.shape[1])\n",
    "v2_tmp = np.random.rand(X.shape[1])\n",
    "w1_tmp = random.random()\n",
    "w2_tmp = random.random()\n",
    "alpha = 0.01\n",
    "iters = 10000\n",
    "v1_out, v2_out, w1_out, w2_out, J2 = gradient_descent(X, Y, v1_tmp, v2_tmp, w1_tmp, w2_tmp, alpha, iters) \n",
    "print(f\"\\nUpdated Parameters:\\nv1:{v1_out}\\nv2:{v2_out}\\nw1:{w1_out}\\nw2:{w2_out}\")"
   ]
  },
  {
   "cell_type": "code",
   "execution_count": 58,
   "id": "e42de435",
   "metadata": {},
   "outputs": [
    {
     "name": "stderr",
     "output_type": "stream",
     "text": [
      "No artists with labels found to put in legend.  Note that artists whose label start with an underscore are ignored when legend() is called with no argument.\n"
     ]
    },
    {
     "data": {
      "text/plain": [
       "<matplotlib.legend.Legend at 0x29a676efb20>"
      ]
     },
     "execution_count": 58,
     "metadata": {},
     "output_type": "execute_result"
    },
    {
     "data": {
      "image/png": "[encoded data removed]",
      "text/plain": [
       "<Figure size 640x480 with 1 Axes>"
      ]
     },
     "metadata": {},
     "output_type": "display_data"
    }
   ],
   "source": [
    "fig=plt.figure(figsize=[6.4, 4.8],facecolor='skyblue', edgecolor='black',dpi=100)\n",
    "ax = fig.add_axes([0,0,1,1], projection='rectilinear',xlabel='iterations',ylabel='cost',title='random',facecolor='w')\n",
    "plt.plot(np.arange(10000),J2,color='black')\n",
    "plt.legend(facecolor='w',loc='upper center',shadow=True,edgecolor='black',title='Linear Model')"
   ]
  },
  {
   "cell_type": "code",
   "execution_count": 59,
   "id": "36e7e36b",
   "metadata": {},
   "outputs": [
    {
     "data": {
      "text/plain": [
       "<matplotlib.legend.Legend at 0x29a67f068e0>"
      ]
     },
     "execution_count": 59,
     "metadata": {},
     "output_type": "execute_result"
    },
    {
     "data": {
      "image/png": "[encoded data removed]",
      "text/plain": [
       "<Figure size 640x480 with 1 Axes>"
      ]
     },
     "metadata": {},
     "output_type": "display_data"
    }
   ],
   "source": [
    "fig=plt.figure(figsize=[6.4, 4.8],facecolor='skyblue', edgecolor='black',dpi=100)\n",
    "ax = fig.add_axes([0,0,1,1], projection='rectilinear',xlabel='iterations',ylabel='cost',title='Zero Vs Random',facecolor='w')\n",
    "plt.plot(np.arange(10000),J,color='black')\n",
    "plt.plot(np.arange(10000),J2,color='r')\n",
    "plt.legend(['zero','random'],facecolor='w',loc='upper center',shadow=True,edgecolor='black',title='Linear Model')"
   ]
  },
  {
   "cell_type": "code",
   "execution_count": 60,
   "id": "38af258e",
   "metadata": {},
   "outputs": [
    {
     "name": "stdout",
     "output_type": "stream",
     "text": [
      "Iteration    0: Cost 0.3083007906543879   \n",
      "Iteration 1000: Cost 0.24978470389099428   \n",
      "Iteration 2000: Cost 0.2496382788243932   \n",
      "Iteration 3000: Cost 0.2494213776393284   \n",
      "Iteration 4000: Cost 0.2490574943506714   \n",
      "Iteration 5000: Cost 0.2483354271499785   \n",
      "Iteration 6000: Cost 0.2463856581404917   \n",
      "Iteration 7000: Cost 0.23600146470702382   \n",
      "Iteration 8000: Cost 0.20706926076225035   \n",
      "Iteration 9000: Cost 0.19024435658148875   \n",
      "\n",
      "Updated Parameters:\n",
      "v1:[-0.24743957 -0.03752648  0.55001969  0.19568197  0.80998877 -0.42976282\n",
      "  0.03478722  0.33820904  0.15872034  0.11063624  1.16225738  0.67096864\n",
      "  0.12435261  0.67759922 -0.04082356 -0.15376017 -0.06626404  0.18781905\n",
      "  0.42403254  0.70785583]\n",
      "v2:[ 2.25331857  0.05526555 -0.32624903  0.39839392 -1.44264816  1.39454099\n",
      "  1.32112205 -0.32117036  0.13952243  0.03062714 -0.5817373  -0.10897195\n",
      " -0.65179984 -0.42871833 -0.29732693  0.19461539  0.23240529 -0.27774086\n",
      "  0.23136671 -0.63364308]\n",
      "w1:-1.9690691109827758\n",
      "w2:3.299322431839079\n"
     ]
    }
   ],
   "source": [
    "alpha = 0.1\n",
    "iters = 10000\n",
    "v1_out, v2_out, w1_out, w2_out, J1 = gradient_descent(X, Y, v1_tmp, v2_tmp, w1_tmp, w2_tmp, alpha, iters) \n",
    "print(f\"\\nUpdated Parameters:\\nv1:{v1_out}\\nv2:{v2_out}\\nw1:{w1_out}\\nw2:{w2_out}\")"
   ]
  },
  {
   "cell_type": "code",
   "execution_count": 61,
   "id": "26e08f3c",
   "metadata": {},
   "outputs": [
    {
     "name": "stderr",
     "output_type": "stream",
     "text": [
      "No artists with labels found to put in legend.  Note that artists whose label start with an underscore are ignored when legend() is called with no argument.\n"
     ]
    },
    {
     "data": {
      "text/plain": [
       "<matplotlib.legend.Legend at 0x29a6762ed90>"
      ]
     },
     "execution_count": 61,
     "metadata": {},
     "output_type": "execute_result"
    },
    {
     "data": {
      "image/png": "[encoded data removed]",
      "text/plain": [
       "<Figure size 640x480 with 1 Axes>"
      ]
     },
     "metadata": {},
     "output_type": "display_data"
    }
   ],
   "source": [
    "fig=plt.figure(figsize=[6.4, 4.8],facecolor='skyblue', edgecolor='black',dpi=100)\n",
    "ax = fig.add_axes([0,0,1,1], projection='rectilinear',xlabel='iterations',ylabel='cost',title='0.1',facecolor='w')\n",
    "plt.plot(np.arange(10000),J1,color='black')\n",
    "plt.legend(facecolor='w',loc='upper center',shadow=True,edgecolor='black',title='Linear Model')"
   ]
  },
  {
   "cell_type": "code",
   "execution_count": 62,
   "id": "64b94650",
   "metadata": {},
   "outputs": [
    {
     "name": "stdout",
     "output_type": "stream",
     "text": [
      "Iteration    0: Cost 0.30911005355864135   \n",
      "Iteration 1000: Cost 0.24984360847105444   \n",
      "Iteration 2000: Cost 0.2497847630898253   \n",
      "Iteration 3000: Cost 0.24971759416993758   \n",
      "Iteration 4000: Cost 0.2496383618609299   \n",
      "Iteration 5000: Cost 0.24954205041924393   \n",
      "Iteration 6000: Cost 0.24942150021061807   \n",
      "Iteration 7000: Cost 0.24926586916654409   \n",
      "Iteration 8000: Cost 0.2490576869293251   \n",
      "Iteration 9000: Cost 0.24876671412924242   \n",
      "\n",
      "Updated Parameters:\n",
      "v1:[ 0.42449982  0.24056001  0.34534526  0.43732019  0.58138074 -0.0022666\n",
      "  0.41577115  0.65153616  0.62398545  0.12638366  1.02502896  0.90503489\n",
      "  0.2902171   0.9190282   0.18240574  0.03093381  0.1392364   0.47281665\n",
      "  0.58358708  0.91051943]\n",
      "v2:[ 0.72653723  0.5809554   0.83647387  0.69702463  0.46327053  0.88819061\n",
      "  1.00210576 -0.11602983  0.28526512  0.6242989   0.62056101  0.69120815\n",
      "  0.03702904  0.15701157  0.55179678  0.40327433  0.87244281  0.37780334\n",
      "  0.75903427  0.31374386]\n",
      "w1:-0.6483897890301141\n",
      "w2:0.6609280416592217\n"
     ]
    }
   ],
   "source": [
    "alpha = 0.05\n",
    "iters = 10000\n",
    "v1_out, v2_out, w1_out, w2_out, J2 = gradient_descent(X, Y, v1_tmp, v2_tmp, w1_tmp, w2_tmp, alpha, iters) \n",
    "print(f\"\\nUpdated Parameters:\\nv1:{v1_out}\\nv2:{v2_out}\\nw1:{w1_out}\\nw2:{w2_out}\")"
   ]
  },
  {
   "cell_type": "code",
   "execution_count": 63,
   "id": "10d97d92",
   "metadata": {},
   "outputs": [
    {
     "name": "stderr",
     "output_type": "stream",
     "text": [
      "No artists with labels found to put in legend.  Note that artists whose label start with an underscore are ignored when legend() is called with no argument.\n"
     ]
    },
    {
     "data": {
      "text/plain": [
       "<matplotlib.legend.Legend at 0x29a62d094f0>"
      ]
     },
     "execution_count": 63,
     "metadata": {},
     "output_type": "execute_result"
    },
    {
     "data": {
      "image/png": "[encoded data removed]",
      "text/plain": [
       "<Figure size 640x480 with 1 Axes>"
      ]
     },
     "metadata": {},
     "output_type": "display_data"
    }
   ],
   "source": [
    "fig=plt.figure(figsize=[6.4, 4.8],facecolor='skyblue', edgecolor='black',dpi=100)\n",
    "ax = fig.add_axes([0,0,1,1], projection='rectilinear',xlabel='iterations',ylabel='cost',title='0.05',facecolor='w')\n",
    "plt.plot(np.arange(10000),J2,color='black')\n",
    "plt.legend(facecolor='w',loc='upper center',shadow=True,edgecolor='black',title='Linear Model')"
   ]
  },
  {
   "cell_type": "code",
   "execution_count": 64,
   "id": "8209228d",
   "metadata": {},
   "outputs": [
    {
     "name": "stdout",
     "output_type": "stream",
     "text": [
      "Iteration    0: Cost 0.30975897617312365   \n",
      "Iteration 1000: Cost 0.25086156171305996   \n",
      "Iteration 2000: Cost 0.2498851217385981   \n",
      "Iteration 3000: Cost 0.249865622097746   \n",
      "Iteration 4000: Cost 0.24985469117796333   \n",
      "Iteration 5000: Cost 0.2498436490989391   \n",
      "Iteration 6000: Cost 0.24983239586939962   \n",
      "Iteration 7000: Cost 0.24982090863279885   \n",
      "Iteration 8000: Cost 0.24980916455064575   \n",
      "Iteration 9000: Cost 0.24979713999598527   \n",
      "\n",
      "Updated Parameters:\n",
      "v1:[0.57683863 0.23568962 0.31844287 0.48823074 0.45149308 0.14176992\n",
      " 0.53352204 0.65584489 0.61626909 0.09220111 0.93227134 0.83894606\n",
      " 0.2158367  0.91766914 0.12470877 0.11797455 0.17551233 0.42902876\n",
      " 0.6379689  0.86248143]\n",
      "v2:[0.63711492 0.66125246 0.85923612 0.70918838 0.63474273 0.80320864\n",
      " 0.94626632 0.0018036  0.42067931 0.71380707 0.75905046 0.87325588\n",
      " 0.22200048 0.27887243 0.7040616  0.35954842 0.89583031 0.52804125\n",
      " 0.74529916 0.45967209]\n",
      "w1:-0.39739354751386036\n",
      "w2:0.3973122621623835\n"
     ]
    }
   ],
   "source": [
    "alpha = 0.01\n",
    "iters = 10000\n",
    "v1_out, v2_out, w1_out, w2_out, J3 = gradient_descent(X, Y, v1_tmp, v2_tmp, w1_tmp, w2_tmp, alpha, iters) \n",
    "print(f\"\\nUpdated Parameters:\\nv1:{v1_out}\\nv2:{v2_out}\\nw1:{w1_out}\\nw2:{w2_out}\")"
   ]
  },
  {
   "cell_type": "code",
   "execution_count": 65,
   "id": "93d11549",
   "metadata": {},
   "outputs": [
    {
     "name": "stderr",
     "output_type": "stream",
     "text": [
      "No artists with labels found to put in legend.  Note that artists whose label start with an underscore are ignored when legend() is called with no argument.\n"
     ]
    },
    {
     "data": {
      "text/plain": [
       "<matplotlib.legend.Legend at 0x29a671827c0>"
      ]
     },
     "execution_count": 65,
     "metadata": {},
     "output_type": "execute_result"
    },
    {
     "data": {
      "image/png": "[encoded data removed]",
      "text/plain": [
       "<Figure size 640x480 with 1 Axes>"
      ]
     },
     "metadata": {},
     "output_type": "display_data"
    }
   ],
   "source": [
    "fig=plt.figure(figsize=[6.4, 4.8],facecolor='skyblue', edgecolor='black',dpi=100)\n",
    "ax = fig.add_axes([0,0,1,1], projection='rectilinear',xlabel='iterations',ylabel='cost',title='0.01',facecolor='w')\n",
    "plt.plot(np.arange(10000),J3,color='black')\n",
    "plt.legend(facecolor='w',loc='upper center',shadow=True,edgecolor='black',title='Linear Model')"
   ]
  },
  {
   "cell_type": "code",
   "execution_count": 66,
   "id": "6eb86091",
   "metadata": {
    "scrolled": true
   },
   "outputs": [
    {
     "name": "stdout",
     "output_type": "stream",
     "text": [
      "Iteration    0: Cost 0.30984018375031785   \n",
      "Iteration 1000: Cost 0.25945241740166114   \n",
      "Iteration 2000: Cost 0.2508658810502269   \n",
      "Iteration 3000: Cost 0.24997550384642314   \n",
      "Iteration 4000: Cost 0.24988519075679588   \n",
      "Iteration 5000: Cost 0.24987176110703524   \n",
      "Iteration 6000: Cost 0.24986562769427986   \n",
      "Iteration 7000: Cost 0.24986015105430598   \n",
      "Iteration 8000: Cost 0.24985469611844027   \n",
      "Iteration 9000: Cost 0.2498491999678869   \n",
      "\n",
      "Updated Parameters:\n",
      "v1:[0.59128892 0.23274498 0.31549279 0.49193246 0.43639371 0.15544824\n",
      " 0.54437239 0.65383963 0.61241705 0.08727803 0.92115105 0.82895997\n",
      " 0.20508009 0.91491289 0.1156894  0.12595912 0.17734282 0.42161289\n",
      " 0.6422958  0.85489959]\n",
      "v2:[0.63001802 0.66603414 0.86079245 0.70939743 0.64657156 0.79629659\n",
      " 0.94163874 0.00953457 0.42929508 0.71985353 0.7687001  0.88548291\n",
      " 0.23457201 0.28707568 0.71410885 0.35573198 0.89682124 0.53797772\n",
      " 0.74379857 0.4691684 ]\n",
      "w1:-0.3860638327803417\n",
      "w2:0.38558756368601166\n"
     ]
    }
   ],
   "source": [
    "alpha = 0.005\n",
    "iters = 10000\n",
    "v1_out, v2_out, w1_out, w2_out, J4 = gradient_descent(X, Y, v1_tmp, v2_tmp, w1_tmp, w2_tmp, alpha, iters) \n",
    "print(f\"\\nUpdated Parameters:\\nv1:{v1_out}\\nv2:{v2_out}\\nw1:{w1_out}\\nw2:{w2_out}\")"
   ]
  },
  {
   "cell_type": "code",
   "execution_count": 67,
   "id": "11546976",
   "metadata": {},
   "outputs": [
    {
     "name": "stderr",
     "output_type": "stream",
     "text": [
      "No artists with labels found to put in legend.  Note that artists whose label start with an underscore are ignored when legend() is called with no argument.\n"
     ]
    },
    {
     "data": {
      "text/plain": [
       "<matplotlib.legend.Legend at 0x29a671ffd90>"
      ]
     },
     "execution_count": 67,
     "metadata": {},
     "output_type": "execute_result"
    },
    {
     "data": {
      "image/png": "[encoded data removed]",
      "text/plain": [
       "<Figure size 640x480 with 1 Axes>"
      ]
     },
     "metadata": {},
     "output_type": "display_data"
    }
   ],
   "source": [
    "fig=plt.figure(figsize=[6.4, 4.8],facecolor='skyblue', edgecolor='black',dpi=100)\n",
    "ax = fig.add_axes([0,0,1,1], projection='rectilinear',xlabel='iterations',ylabel='cost',title='0.005',facecolor='w')\n",
    "plt.plot(np.arange(10000),J4,color='black')\n",
    "plt.legend(facecolor='w',loc='upper center',shadow=True,edgecolor='black',title='Linear Model')"
   ]
  },
  {
   "cell_type": "code",
   "execution_count": 68,
   "id": "d97c884c",
   "metadata": {},
   "outputs": [
    {
     "name": "stdout",
     "output_type": "stream",
     "text": [
      "Iteration    0: Cost 0.3099051643854489   \n",
      "Iteration 1000: Cost 0.29463466543576877   \n",
      "Iteration 2000: Cost 0.2818332805442203   \n",
      "Iteration 3000: Cost 0.2718592991952111   \n",
      "Iteration 4000: Cost 0.2645601247736565   \n",
      "Iteration 5000: Cost 0.25947471608764305   \n",
      "Iteration 6000: Cost 0.256056980948076   \n",
      "Iteration 7000: Cost 0.2538168274196552   \n",
      "Iteration 8000: Cost 0.25237291319439487   \n",
      "Iteration 9000: Cost 0.25145229766423666   \n",
      "\n",
      "Updated Parameters:\n",
      "v1:[0.602303   0.22975559 0.31309189 0.49439678 0.42415121 0.16578834\n",
      " 0.55249064 0.65171292 0.60861613 0.08309577 0.91213999 0.82039817\n",
      " 0.19592701 0.91210137 0.10784837 0.13187252 0.17826418 0.41507127\n",
      " 0.64532932 0.84830391]\n",
      "v2:[0.62456251 0.66982595 0.86201407 0.7096157  0.65575077 0.79099716\n",
      " 0.93811773 0.01556229 0.43605559 0.72453875 0.77614854 0.89501473\n",
      " 0.24437246 0.29351492 0.72196795 0.35282821 0.8976523  0.54575616\n",
      " 0.74269291 0.47659015]\n",
      "w1:-0.31521843713744435\n",
      "w2:0.44394225819079447\n"
     ]
    }
   ],
   "source": [
    "alpha = 0.001\n",
    "iters = 10000\n",
    "v1_out, v2_out, w1_out, w2_out, J5 = gradient_descent(X, Y, v1_tmp, v2_tmp, w1_tmp, w2_tmp, alpha, iters) \n",
    "print(f\"\\nUpdated Parameters:\\nv1:{v1_out}\\nv2:{v2_out}\\nw1:{w1_out}\\nw2:{w2_out}\")"
   ]
  },
  {
   "cell_type": "code",
   "execution_count": 69,
   "id": "c06ae7d9",
   "metadata": {},
   "outputs": [
    {
     "name": "stderr",
     "output_type": "stream",
     "text": [
      "No artists with labels found to put in legend.  Note that artists whose label start with an underscore are ignored when legend() is called with no argument.\n"
     ]
    },
    {
     "data": {
      "text/plain": [
       "<matplotlib.legend.Legend at 0x29a6728dd60>"
      ]
     },
     "execution_count": 69,
     "metadata": {},
     "output_type": "execute_result"
    },
    {
     "data": {
      "image/png": "[encoded data removed]",
      "text/plain": [
       "<Figure size 640x480 with 1 Axes>"
      ]
     },
     "metadata": {},
     "output_type": "display_data"
    }
   ],
   "source": [
    "fig=plt.figure(figsize=[6.4, 4.8],facecolor='skyblue', edgecolor='black',dpi=100)\n",
    "ax = fig.add_axes([0,0,1,1], projection='rectilinear',xlabel='iterations',ylabel='cost',title='0.001',facecolor='w')\n",
    "plt.plot(np.arange(10000),J5,color='black')\n",
    "plt.legend(facecolor='w',loc='upper center',shadow=True,edgecolor='black',title='Linear Model')"
   ]
  },
  {
   "cell_type": "code",
   "execution_count": 70,
   "id": "72122c15",
   "metadata": {},
   "outputs": [
    {
     "data": {
      "text/plain": [
       "<matplotlib.legend.Legend at 0x29a672eebe0>"
      ]
     },
     "execution_count": 70,
     "metadata": {},
     "output_type": "execute_result"
    },
    {
     "data": {
      "image/png": "[encoded data removed]",
      "text/plain": [
       "<Figure size 640x480 with 1 Axes>"
      ]
     },
     "metadata": {},
     "output_type": "display_data"
    }
   ],
   "source": [
    "fig=plt.figure(figsize=[6.4, 4.8],facecolor='skyblue', edgecolor='black',dpi=100)\n",
    "ax = fig.add_axes([0,0,1,1], projection='rectilinear',xlabel='iterations',ylabel='cost',title='Learning Rates Comparison',facecolor='w')\n",
    "plt.plot(np.arange(10000),J1,color='b')\n",
    "plt.plot(np.arange(10000),J2,color='r')\n",
    "plt.plot(np.arange(10000),J3,color='g')\n",
    "plt.plot(np.arange(10000),J4,color='c')\n",
    "plt.plot(np.arange(10000),J5,color='m')\n",
    "plt.legend(['0.1','0.05','0.01','0.005','0.001'],facecolor='w',loc='upper center',shadow=True,edgecolor='black',title='Linear Model')"
   ]
  },
  {
   "cell_type": "code",
   "execution_count": 71,
   "id": "0ac68a9a",
   "metadata": {},
   "outputs": [],
   "source": [
    "np.random.seed(200)\n",
    "df_train, df_test = np.split(df.sample(frac=1, random_state=42), [int(.8*len(df))])"
   ]
  },
  {
   "cell_type": "code",
   "execution_count": 72,
   "id": "6b684811",
   "metadata": {},
   "outputs": [
    {
     "data": {
      "text/plain": [
       "1    743\n",
       "0    716\n",
       "Name: is_safe, dtype: int64"
      ]
     },
     "execution_count": 72,
     "metadata": {},
     "output_type": "execute_result"
    }
   ],
   "source": [
    "df_train['is_safe'].value_counts()"
   ]
  },
  {
   "cell_type": "code",
   "execution_count": 73,
   "id": "5dfa311f",
   "metadata": {},
   "outputs": [
    {
     "data": {
      "text/plain": [
       "0    196\n",
       "1    169\n",
       "Name: is_safe, dtype: int64"
      ]
     },
     "execution_count": 73,
     "metadata": {},
     "output_type": "execute_result"
    }
   ],
   "source": [
    "df_test['is_safe'].value_counts()"
   ]
  },
  {
   "cell_type": "code",
   "execution_count": 74,
   "id": "c7b24875",
   "metadata": {},
   "outputs": [],
   "source": [
    "X_train = df_train.drop(['is_safe'], axis=1).values\n",
    "Y_train = df_train['is_safe'].values\n",
    "X_test = df_test.drop(['is_safe'], axis=1).values\n",
    "Y_test = df_test['is_safe'].values"
   ]
  },
  {
   "cell_type": "code",
   "execution_count": 75,
   "id": "2674f1a2",
   "metadata": {},
   "outputs": [
    {
     "name": "stdout",
     "output_type": "stream",
     "text": [
      "Iteration    0: Cost 0.3037789055439776   \n",
      "Iteration 1000: Cost 0.24964408629712206   \n",
      "Iteration 2000: Cost 0.24948245107007322   \n",
      "Iteration 3000: Cost 0.24923155472641523   \n",
      "Iteration 4000: Cost 0.24878760873157138   \n",
      "Iteration 5000: Cost 0.2478316492411036   \n",
      "Iteration 6000: Cost 0.24477561344779364   \n",
      "Iteration 7000: Cost 0.22621166953150915   \n",
      "Iteration 8000: Cost 0.20203077038250658   \n",
      "Iteration 9000: Cost 0.18800743739506745   \n",
      "\n",
      "Updated Parameters:\n",
      "v1:[-0.25065721 -0.03018035  0.5398886   0.16912924  0.75911211 -0.38608322\n",
      "  0.04213508  0.40759101  0.0941965   0.09124904  1.15838665  0.74070383\n",
      "  0.08774217  0.6488805  -0.08134082 -0.1431714  -0.03191951  0.13983171\n",
      "  0.48849839  0.70626898]\n",
      "v2:[ 2.368906   -0.01156809 -0.45180145  0.48686913 -1.47422615  1.37217373\n",
      "  1.31914664 -0.46599013  0.20423815  0.06820448 -0.5845332  -0.24876956\n",
      " -0.55752947 -0.34939736 -0.19753644  0.15204711  0.16844719 -0.25620212\n",
      "  0.13367309 -0.64555621]\n",
      "w1:-1.9907631720885253\n",
      "w2:3.4048025002481834\n"
     ]
    }
   ],
   "source": [
    "alpha = 0.1\n",
    "iters = 10000\n",
    "v1_out, v2_out, w1_out, w2_out, J = gradient_descent(X_train, Y_train, v1_tmp, v2_tmp, w1_tmp, w2_tmp, alpha, iters) \n",
    "print(f\"\\nUpdated Parameters:\\nv1:{v1_out}\\nv2:{v2_out}\\nw1:{w1_out}\\nw2:{w2_out}\")"
   ]
  },
  {
   "cell_type": "code",
   "execution_count": 78,
   "id": "020cdf11",
   "metadata": {},
   "outputs": [],
   "source": [
    "def predict(X):\n",
    "    v1 = np.array([-0.25065721, -0.03018035,  0.5398886,   0.16912924,  0.75911211, -0.38608322,\n",
    "  0.04213508,  0.40759101,  0.0941965,   0.09124904,  1.15838665,  0.74070383,\n",
    "  0.08774217,  0.6488805,  -0.08134082, -0.1431714,  -0.03191951,  0.13983171,\n",
    "  0.48849839,  0.70626898])\n",
    "    v2 = np.array([2.368906,   -0.01156809, -0.45180145,  0.48686913, -1.47422615,  1.37217373,\n",
    "  1.31914664, -0.46599013,  0.20423815,  0.06820448, -0.5845332,  -0.24876956,\n",
    " -0.55752947, -0.34939736, -0.19753644,  0.15204711,  0.16844719, -0.25620212,\n",
    "  0.13367309, -0.64555621])\n",
    "    w1 = -1.9907631720885253\n",
    "    w2 = 3.4048025002481834\n",
    "    preds = []\n",
    "    for x in X:\n",
    "        f_w_i = (sigmoid((w1*sigmoid(np.dot(v1,x)))+(w2*sigmoid(np.dot(v2,x)))))\n",
    "        if (f_w_i >= 0.5):\n",
    "            preds.append(1)\n",
    "        else:\n",
    "            preds.append(0)\n",
    "    return preds"
   ]
  },
  {
   "cell_type": "code",
   "execution_count": 79,
   "id": "766803c5",
   "metadata": {},
   "outputs": [],
   "source": [
    "preds = predict(X_test)"
   ]
  },
  {
   "cell_type": "code",
   "execution_count": 80,
   "id": "6dd8e1f7",
   "metadata": {},
   "outputs": [],
   "source": [
    "acc = accuracy_score(Y_test, preds)"
   ]
  },
  {
   "cell_type": "code",
   "execution_count": 81,
   "id": "0cd33072",
   "metadata": {},
   "outputs": [
    {
     "data": {
      "text/plain": [
       "0.7643835616438356"
      ]
     },
     "execution_count": 81,
     "metadata": {},
     "output_type": "execute_result"
    }
   ],
   "source": [
    "acc"
   ]
  },
  {
   "cell_type": "code",
   "execution_count": 83,
   "id": "dcd95a1f",
   "metadata": {},
   "outputs": [
    {
     "data": {
      "text/plain": [
       "[0,\n",
       " 0,\n",
       " 0,\n",
       " 0,\n",
       " 0,\n",
       " 1,\n",
       " 1,\n",
       " 0,\n",
       " 1,\n",
       " 1,\n",
       " 0,\n",
       " 1,\n",
       " 1,\n",
       " 0,\n",
       " 1,\n",
       " 0,\n",
       " 1,\n",
       " 0,\n",
       " 0,\n",
       " 1,\n",
       " 0,\n",
       " 0,\n",
       " 0,\n",
       " 0,\n",
       " 1,\n",
       " 0,\n",
       " 0,\n",
       " 0,\n",
       " 1,\n",
       " 0,\n",
       " 0,\n",
       " 1,\n",
       " 0,\n",
       " 1,\n",
       " 0,\n",
       " 1,\n",
       " 0,\n",
       " 0,\n",
       " 0,\n",
       " 1,\n",
       " 1,\n",
       " 1,\n",
       " 0,\n",
       " 1,\n",
       " 1,\n",
       " 0,\n",
       " 1,\n",
       " 1,\n",
       " 0,\n",
       " 1,\n",
       " 1,\n",
       " 1,\n",
       " 1,\n",
       " 1,\n",
       " 1,\n",
       " 1,\n",
       " 0,\n",
       " 1,\n",
       " 0,\n",
       " 1,\n",
       " 0,\n",
       " 0,\n",
       " 1,\n",
       " 0,\n",
       " 1,\n",
       " 1,\n",
       " 0,\n",
       " 0,\n",
       " 0,\n",
       " 1,\n",
       " 0,\n",
       " 0,\n",
       " 1,\n",
       " 1,\n",
       " 0,\n",
       " 1,\n",
       " 0,\n",
       " 1,\n",
       " 1,\n",
       " 1,\n",
       " 1,\n",
       " 1,\n",
       " 0,\n",
       " 1,\n",
       " 0,\n",
       " 1,\n",
       " 0,\n",
       " 1,\n",
       " 1,\n",
       " 0,\n",
       " 0,\n",
       " 1,\n",
       " 1,\n",
       " 0,\n",
       " 0,\n",
       " 0,\n",
       " 1,\n",
       " 0,\n",
       " 1,\n",
       " 1,\n",
       " 0,\n",
       " 0,\n",
       " 1,\n",
       " 1,\n",
       " 1,\n",
       " 0,\n",
       " 1,\n",
       " 0,\n",
       " 1,\n",
       " 1,\n",
       " 0,\n",
       " 1,\n",
       " 1,\n",
       " 0,\n",
       " 1,\n",
       " 0,\n",
       " 0,\n",
       " 1,\n",
       " 0,\n",
       " 0,\n",
       " 1,\n",
       " 0,\n",
       " 1,\n",
       " 1,\n",
       " 0,\n",
       " 0,\n",
       " 1,\n",
       " 1,\n",
       " 1,\n",
       " 1,\n",
       " 0,\n",
       " 1,\n",
       " 0,\n",
       " 0,\n",
       " 1,\n",
       " 1,\n",
       " 0,\n",
       " 0,\n",
       " 0,\n",
       " 1,\n",
       " 1,\n",
       " 0,\n",
       " 0,\n",
       " 0,\n",
       " 0,\n",
       " 1,\n",
       " 0,\n",
       " 1,\n",
       " 0,\n",
       " 1,\n",
       " 1,\n",
       " 0,\n",
       " 1,\n",
       " 1,\n",
       " 0,\n",
       " 0,\n",
       " 0,\n",
       " 1,\n",
       " 1,\n",
       " 0,\n",
       " 1,\n",
       " 1,\n",
       " 0,\n",
       " 0,\n",
       " 0,\n",
       " 0,\n",
       " 0,\n",
       " 0,\n",
       " 0,\n",
       " 0,\n",
       " 1,\n",
       " 0,\n",
       " 0,\n",
       " 1,\n",
       " 0,\n",
       " 0,\n",
       " 1,\n",
       " 0,\n",
       " 1,\n",
       " 0,\n",
       " 0,\n",
       " 0,\n",
       " 1,\n",
       " 0,\n",
       " 1,\n",
       " 0,\n",
       " 1,\n",
       " 0,\n",
       " 0,\n",
       " 1,\n",
       " 1,\n",
       " 0,\n",
       " 1,\n",
       " 0,\n",
       " 1,\n",
       " 0,\n",
       " 0,\n",
       " 0,\n",
       " 0,\n",
       " 0,\n",
       " 0,\n",
       " 1,\n",
       " 1,\n",
       " 0,\n",
       " 0,\n",
       " 1,\n",
       " 1,\n",
       " 0,\n",
       " 0,\n",
       " 0,\n",
       " 1,\n",
       " 1,\n",
       " 1,\n",
       " 0,\n",
       " 0,\n",
       " 0,\n",
       " 0,\n",
       " 1,\n",
       " 0,\n",
       " 0,\n",
       " 1,\n",
       " 1,\n",
       " 0,\n",
       " 0,\n",
       " 0,\n",
       " 0,\n",
       " 1,\n",
       " 1,\n",
       " 0,\n",
       " 1,\n",
       " 0,\n",
       " 1,\n",
       " 0,\n",
       " 1,\n",
       " 1,\n",
       " 1,\n",
       " 1,\n",
       " 1,\n",
       " 0,\n",
       " 0,\n",
       " 0,\n",
       " 0,\n",
       " 1,\n",
       " 0,\n",
       " 1,\n",
       " 1,\n",
       " 1,\n",
       " 1,\n",
       " 1,\n",
       " 0,\n",
       " 1,\n",
       " 1,\n",
       " 1,\n",
       " 1,\n",
       " 1,\n",
       " 1,\n",
       " 0,\n",
       " 0,\n",
       " 1,\n",
       " 1,\n",
       " 1,\n",
       " 0,\n",
       " 0,\n",
       " 0,\n",
       " 1,\n",
       " 0,\n",
       " 0,\n",
       " 1,\n",
       " 0,\n",
       " 1,\n",
       " 1,\n",
       " 0,\n",
       " 1,\n",
       " 1,\n",
       " 1,\n",
       " 0,\n",
       " 0,\n",
       " 1,\n",
       " 0,\n",
       " 1,\n",
       " 0,\n",
       " 0,\n",
       " 0,\n",
       " 1,\n",
       " 1,\n",
       " 1,\n",
       " 0,\n",
       " 1,\n",
       " 0,\n",
       " 0,\n",
       " 0,\n",
       " 0,\n",
       " 1,\n",
       " 1,\n",
       " 0,\n",
       " 1,\n",
       " 0,\n",
       " 0,\n",
       " 1,\n",
       " 1,\n",
       " 1,\n",
       " 1,\n",
       " 1,\n",
       " 1,\n",
       " 1,\n",
       " 0,\n",
       " 1,\n",
       " 1,\n",
       " 0,\n",
       " 0,\n",
       " 1,\n",
       " 0,\n",
       " 0,\n",
       " 0,\n",
       " 1,\n",
       " 0,\n",
       " 0,\n",
       " 0,\n",
       " 1,\n",
       " 0,\n",
       " 1,\n",
       " 0,\n",
       " 1,\n",
       " 1,\n",
       " 0,\n",
       " 1,\n",
       " 0,\n",
       " 0,\n",
       " 1,\n",
       " 1,\n",
       " 1,\n",
       " 0,\n",
       " 1,\n",
       " 0,\n",
       " 1,\n",
       " 1,\n",
       " 0,\n",
       " 1,\n",
       " 0,\n",
       " 0,\n",
       " 0,\n",
       " 1,\n",
       " 1,\n",
       " 1,\n",
       " 1,\n",
       " 1,\n",
       " 1,\n",
       " 0,\n",
       " 0,\n",
       " 0,\n",
       " 1,\n",
       " 0,\n",
       " 1,\n",
       " 0,\n",
       " 0,\n",
       " 0,\n",
       " 0,\n",
       " 0,\n",
       " 1,\n",
       " 1,\n",
       " 0,\n",
       " 0,\n",
       " 0,\n",
       " 0,\n",
       " 0]"
      ]
     },
     "execution_count": 83,
     "metadata": {},
     "output_type": "execute_result"
    }
   ],
   "source": [
    "preds"
   ]
  },
  {
   "cell_type": "code",
   "execution_count": null,
   "id": "5ed6647b",
   "metadata": {},
   "outputs": [],
   "source": []
  }
 ],
 "metadata": {
  "kernelspec": {
   "display_name": "Python 3 (ipykernel)",
   "language": "python",
   "name": "python3"
  },
  "language_info": {
   "codemirror_mode": {
    "name": "ipython",
    "version": 3
   },
   "file_extension": ".py",
   "mimetype": "text/x-python",
   "name": "python",
   "nbconvert_exporter": "python",
   "pygments_lexer": "ipython3",
   "version": "3.9.12"
  }
 },
 "nbformat": 4,
 "nbformat_minor": 5
}
